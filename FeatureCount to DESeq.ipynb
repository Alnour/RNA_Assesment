{
 "cells": [
  {
   "cell_type": "code",
   "execution_count": 87,
   "metadata": {},
   "outputs": [],
   "source": [
    "library(DESeq2)\n",
    "library(stringr)\n",
    "library(ggplot2)"
   ]
  },
  {
   "cell_type": "markdown",
   "metadata": {},
   "source": [
    "Source:\n",
    "https://www.rdocumentation.org/packages/stringr/versions/0.6.2/topics/str_split_fixed"
   ]
  },
  {
   "cell_type": "code",
   "execution_count": 88,
   "metadata": {},
   "outputs": [],
   "source": [
    "setwd(\"/home/alnour/h3bionet/\")"
   ]
  },
  {
   "cell_type": "code",
   "execution_count": 89,
   "metadata": {},
   "outputs": [],
   "source": [
    "counts=read.csv(\"counts.txt\", sep=\"\", head=T, skip=1, row.names = \"Geneid\")"
   ]
  },
  {
   "cell_type": "code",
   "execution_count": 90,
   "metadata": {},
   "outputs": [
    {
     "data": {
      "text/html": [
       "<ol class=list-inline>\n",
       "\t<li>'Chr'</li>\n",
       "\t<li>'Start'</li>\n",
       "\t<li>'End'</li>\n",
       "\t<li>'Strand'</li>\n",
       "\t<li>'Length'</li>\n",
       "\t<li>'X.home.users_current.assesuser2.rna_practice.alignment.sample_37Aligned.out.bam'</li>\n",
       "\t<li>'X.home.users_current.assesuser2.rna_practice.alignment.sample_38Aligned.out.bam'</li>\n",
       "\t<li>'X.home.users_current.assesuser2.rna_practice.alignment.sample_39Aligned.out.bam'</li>\n",
       "\t<li>'X.home.users_current.assesuser2.rna_practice.alignment.sample_40Aligned.out.bam'</li>\n",
       "\t<li>'X.home.users_current.assesuser2.rna_practice.alignment.sample_41Aligned.out.bam'</li>\n",
       "\t<li>'X.home.users_current.assesuser2.rna_practice.alignment.sample_42Aligned.out.bam'</li>\n",
       "</ol>\n"
      ],
      "text/latex": [
       "\\begin{enumerate*}\n",
       "\\item 'Chr'\n",
       "\\item 'Start'\n",
       "\\item 'End'\n",
       "\\item 'Strand'\n",
       "\\item 'Length'\n",
       "\\item 'X.home.users\\_current.assesuser2.rna\\_practice.alignment.sample\\_37Aligned.out.bam'\n",
       "\\item 'X.home.users\\_current.assesuser2.rna\\_practice.alignment.sample\\_38Aligned.out.bam'\n",
       "\\item 'X.home.users\\_current.assesuser2.rna\\_practice.alignment.sample\\_39Aligned.out.bam'\n",
       "\\item 'X.home.users\\_current.assesuser2.rna\\_practice.alignment.sample\\_40Aligned.out.bam'\n",
       "\\item 'X.home.users\\_current.assesuser2.rna\\_practice.alignment.sample\\_41Aligned.out.bam'\n",
       "\\item 'X.home.users\\_current.assesuser2.rna\\_practice.alignment.sample\\_42Aligned.out.bam'\n",
       "\\end{enumerate*}\n"
      ],
      "text/markdown": [
       "1. 'Chr'\n",
       "2. 'Start'\n",
       "3. 'End'\n",
       "4. 'Strand'\n",
       "5. 'Length'\n",
       "6. 'X.home.users_current.assesuser2.rna_practice.alignment.sample_37Aligned.out.bam'\n",
       "7. 'X.home.users_current.assesuser2.rna_practice.alignment.sample_38Aligned.out.bam'\n",
       "8. 'X.home.users_current.assesuser2.rna_practice.alignment.sample_39Aligned.out.bam'\n",
       "9. 'X.home.users_current.assesuser2.rna_practice.alignment.sample_40Aligned.out.bam'\n",
       "10. 'X.home.users_current.assesuser2.rna_practice.alignment.sample_41Aligned.out.bam'\n",
       "11. 'X.home.users_current.assesuser2.rna_practice.alignment.sample_42Aligned.out.bam'\n",
       "\n",
       "\n"
      ],
      "text/plain": [
       " [1] \"Chr\"                                                                            \n",
       " [2] \"Start\"                                                                          \n",
       " [3] \"End\"                                                                            \n",
       " [4] \"Strand\"                                                                         \n",
       " [5] \"Length\"                                                                         \n",
       " [6] \"X.home.users_current.assesuser2.rna_practice.alignment.sample_37Aligned.out.bam\"\n",
       " [7] \"X.home.users_current.assesuser2.rna_practice.alignment.sample_38Aligned.out.bam\"\n",
       " [8] \"X.home.users_current.assesuser2.rna_practice.alignment.sample_39Aligned.out.bam\"\n",
       " [9] \"X.home.users_current.assesuser2.rna_practice.alignment.sample_40Aligned.out.bam\"\n",
       "[10] \"X.home.users_current.assesuser2.rna_practice.alignment.sample_41Aligned.out.bam\"\n",
       "[11] \"X.home.users_current.assesuser2.rna_practice.alignment.sample_42Aligned.out.bam\""
      ]
     },
     "metadata": {},
     "output_type": "display_data"
    }
   ],
   "source": [
    "colnames(counts)"
   ]
  },
  {
   "cell_type": "code",
   "execution_count": 91,
   "metadata": {},
   "outputs": [],
   "source": [
    "samples=cbind(colnames(counts)[6:11],str_split_fixed(colnames(counts)[6:11],\"_\",3)[,2])"
   ]
  },
  {
   "cell_type": "code",
   "execution_count": 92,
   "metadata": {},
   "outputs": [
    {
     "data": {
      "text/html": [
       "<ol class=list-inline>\n",
       "\t<li>'X.home.users_current.assesuser2.rna_practice.alignment.sample_37Aligned.out.bam'</li>\n",
       "\t<li>'X.home.users_current.assesuser2.rna_practice.alignment.sample_38Aligned.out.bam'</li>\n",
       "\t<li>'X.home.users_current.assesuser2.rna_practice.alignment.sample_39Aligned.out.bam'</li>\n",
       "\t<li>'X.home.users_current.assesuser2.rna_practice.alignment.sample_40Aligned.out.bam'</li>\n",
       "\t<li>'X.home.users_current.assesuser2.rna_practice.alignment.sample_41Aligned.out.bam'</li>\n",
       "\t<li>'X.home.users_current.assesuser2.rna_practice.alignment.sample_42Aligned.out.bam'</li>\n",
       "</ol>\n"
      ],
      "text/latex": [
       "\\begin{enumerate*}\n",
       "\\item 'X.home.users\\_current.assesuser2.rna\\_practice.alignment.sample\\_37Aligned.out.bam'\n",
       "\\item 'X.home.users\\_current.assesuser2.rna\\_practice.alignment.sample\\_38Aligned.out.bam'\n",
       "\\item 'X.home.users\\_current.assesuser2.rna\\_practice.alignment.sample\\_39Aligned.out.bam'\n",
       "\\item 'X.home.users\\_current.assesuser2.rna\\_practice.alignment.sample\\_40Aligned.out.bam'\n",
       "\\item 'X.home.users\\_current.assesuser2.rna\\_practice.alignment.sample\\_41Aligned.out.bam'\n",
       "\\item 'X.home.users\\_current.assesuser2.rna\\_practice.alignment.sample\\_42Aligned.out.bam'\n",
       "\\end{enumerate*}\n"
      ],
      "text/markdown": [
       "1. 'X.home.users_current.assesuser2.rna_practice.alignment.sample_37Aligned.out.bam'\n",
       "2. 'X.home.users_current.assesuser2.rna_practice.alignment.sample_38Aligned.out.bam'\n",
       "3. 'X.home.users_current.assesuser2.rna_practice.alignment.sample_39Aligned.out.bam'\n",
       "4. 'X.home.users_current.assesuser2.rna_practice.alignment.sample_40Aligned.out.bam'\n",
       "5. 'X.home.users_current.assesuser2.rna_practice.alignment.sample_41Aligned.out.bam'\n",
       "6. 'X.home.users_current.assesuser2.rna_practice.alignment.sample_42Aligned.out.bam'\n",
       "\n",
       "\n"
      ],
      "text/plain": [
       "[1] \"X.home.users_current.assesuser2.rna_practice.alignment.sample_37Aligned.out.bam\"\n",
       "[2] \"X.home.users_current.assesuser2.rna_practice.alignment.sample_38Aligned.out.bam\"\n",
       "[3] \"X.home.users_current.assesuser2.rna_practice.alignment.sample_39Aligned.out.bam\"\n",
       "[4] \"X.home.users_current.assesuser2.rna_practice.alignment.sample_40Aligned.out.bam\"\n",
       "[5] \"X.home.users_current.assesuser2.rna_practice.alignment.sample_41Aligned.out.bam\"\n",
       "[6] \"X.home.users_current.assesuser2.rna_practice.alignment.sample_42Aligned.out.bam\""
      ]
     },
     "metadata": {},
     "output_type": "display_data"
    },
    {
     "data": {
      "text/html": [
       "<ol class=list-inline>\n",
       "\t<li>'sample_37'</li>\n",
       "\t<li>'sample_38'</li>\n",
       "\t<li>'sample_39'</li>\n",
       "\t<li>'sample_40'</li>\n",
       "\t<li>'sample_41'</li>\n",
       "\t<li>'sample_42'</li>\n",
       "</ol>\n"
      ],
      "text/latex": [
       "\\begin{enumerate*}\n",
       "\\item 'sample\\_37'\n",
       "\\item 'sample\\_38'\n",
       "\\item 'sample\\_39'\n",
       "\\item 'sample\\_40'\n",
       "\\item 'sample\\_41'\n",
       "\\item 'sample\\_42'\n",
       "\\end{enumerate*}\n"
      ],
      "text/markdown": [
       "1. 'sample_37'\n",
       "2. 'sample_38'\n",
       "3. 'sample_39'\n",
       "4. 'sample_40'\n",
       "5. 'sample_41'\n",
       "6. 'sample_42'\n",
       "\n",
       "\n"
      ],
      "text/plain": [
       "[1] \"sample_37\" \"sample_38\" \"sample_39\" \"sample_40\" \"sample_41\" \"sample_42\""
      ]
     },
     "metadata": {},
     "output_type": "display_data"
    }
   ],
   "source": [
    "colnames(counts)[6:11]\n",
    "colnames(counts)[6:11]=str_split_fixed(colnames(counts)[6:11],\"alignment.\",6)[,2]\n",
    "colnames(counts)[6:11]=str_replace(colnames(counts)[6:11],\"Aligned.out.bam\", \"\")\n",
    "colnames(counts)[6:11]\n",
    "samples=cbind(colnames(counts)[6:11],str_split_fixed(colnames(counts)[6:11],\"_\",3)[,2])\n",
    "rownames(samples)=samples[,1]\n",
    "samples=as.data.frame(samples[,-1])\n",
    "colnames(samples)=\"condition\""
   ]
  },
  {
   "cell_type": "code",
   "execution_count": 94,
   "metadata": {},
   "outputs": [
    {
     "data": {
      "text/html": [
       "TRUE"
      ],
      "text/latex": [
       "TRUE"
      ],
      "text/markdown": [
       "TRUE"
      ],
      "text/plain": [
       "[1] TRUE"
      ]
     },
     "metadata": {},
     "output_type": "display_data"
    }
   ],
   "source": [
    "all(rownames(samples) %in% colnames(counts))"
   ]
  },
  {
   "cell_type": "code",
   "execution_count": 95,
   "metadata": {},
   "outputs": [],
   "source": [
    "dds=DESeqDataSetFromMatrix(countData = counts[,6:11],colData = samples,design = ~ condition)"
   ]
  },
  {
   "cell_type": "code",
   "execution_count": 97,
   "metadata": {},
   "outputs": [
    {
     "data": {},
     "metadata": {},
     "output_type": "display_data"
    },
    {
     "data": {
      "image/png": "[encoded data removed]",
      "text/plain": [
       "plot without title"
      ]
     },
     "metadata": {},
     "output_type": "display_data"
    }
   ],
   "source": [
    " plotPCA(rlog(dds), intgroup=\"condition\")+theme_bw() "
   ]
  },
  {
   "cell_type": "code",
   "execution_count": null,
   "metadata": {},
   "outputs": [],
   "source": []
  }
 ],
 "metadata": {
  "kernelspec": {
   "display_name": "R",
   "language": "R",
   "name": "ir"
  },
  "language_info": {
   "codemirror_mode": "r",
   "file_extension": ".r",
   "mimetype": "text/x-r-source",
   "name": "R",
   "pygments_lexer": "r",
   "version": "3.4.3"
  }
 },
 "nbformat": 4,
 "nbformat_minor": 2
}
